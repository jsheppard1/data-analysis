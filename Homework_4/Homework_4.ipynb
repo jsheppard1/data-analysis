{
 "cells": [
  {
   "cell_type": "code",
   "execution_count": 9,
   "metadata": {},
   "outputs": [],
   "source": [
    "import numpy as np\n",
    "import pandas as pd\n",
    "import matplotlib.pyplot as plt\n",
    "import math\n",
    "import seaborn as sns\n",
    "import warnings\n",
    "\n",
    "from sklearn.preprocessing import StandardScaler\n",
    "from sklearn.linear_model import LinearRegression, Ridge, RidgeCV, Lasso, LassoCV\n",
    "from sklearn.metrics import mean_squared_error, r2_score\n",
    "from sklearn.model_selection import RepeatedKFold, cross_val_score, train_test_split\n",
    "\n",
    "\n",
    "warnings.filterwarnings('ignore')"
   ]
  },
  {
   "cell_type": "markdown",
   "metadata": {},
   "source": [
    "## Get Training Data"
   ]
  },
  {
   "cell_type": "code",
   "execution_count": 10,
   "metadata": {
    "scrolled": true
   },
   "outputs": [],
   "source": [
    "# Get training data\n",
    "train = pd.DataFrame(pd.read_csv('training.csv'))\n",
    "train['row'] = np.arange(len(train))\n",
    "# critical_temp should be at end for ease of use\n",
    "train = train.iloc[:, np.r_[82,0:81,81]]\n",
    "\n",
    "# Get formula training data\n",
    "form_train = pd.DataFrame(pd.read_csv('formula_training.csv'))\n",
    "form_train['row'] = np.arange(len(form_train))\n",
    "# Move new 'row' column to beginning\n",
    "form_train = form_train.iloc[:, np.r_[87,0:87]]\n",
    "\n",
    "# Create combined training table\n",
    "train_full = pd.merge(train, form_train, how=\"inner\", on=\"row\")\n",
    "\n",
    "# Rearrange columns and drop 'material'\n",
    "train_full = train_full.iloc[:, np.r_[1:82, 83:169, 82]]\n",
    "\n",
    "# Separate into independent and dependent variables\n",
    "X = train_full.iloc[:,0:167]\n",
    "Y = pd.DataFrame(train_full.iloc[:,167])\n",
    "\n",
    "scaler = StandardScaler()\n",
    "X_scaled = scaler.fit_transform(X)"
   ]
  },
  {
   "cell_type": "markdown",
   "metadata": {},
   "source": [
    "## Get Test Data"
   ]
  },
  {
   "cell_type": "code",
   "execution_count": 11,
   "metadata": {},
   "outputs": [],
   "source": [
    "test = pd.DataFrame(pd.read_csv('test.csv'))\n",
    "test['row'] = np.arange(len(test))\n",
    "# critical_temp should be at end for ease of use\n",
    "test = test.iloc[:, np.r_[81,0:81]]\n",
    "\n",
    "# Get formula training data\n",
    "form_test = pd.DataFrame(pd.read_csv('formula_test.csv'))\n",
    "form_test['row'] = np.arange(len(form_test))\n",
    "\n",
    "# Move new 'row' column to beginning\n",
    "# Drop 'material'\n",
    "form_test = form_train.iloc[:, np.r_[0:87]]\n",
    "\n",
    "# Create combined training table\n",
    "test_full = pd.merge(test, form_test, how=\"inner\", on=\"row\")\n",
    "test_full = test_full.iloc[:, np.r_[1:168]]"
   ]
  },
  {
   "cell_type": "markdown",
   "metadata": {},
   "source": [
    "## Split training data into training and validation sets"
   ]
  },
  {
   "cell_type": "code",
   "execution_count": 12,
   "metadata": {},
   "outputs": [
    {
     "name": "stdout",
     "output_type": "stream",
     "text": [
      "X_train shape: (16210, 167)\n",
      "Y_train shape: (16210, 1)\n",
      "X_train shape: (4053, 167)\n",
      "Y_train shape: (4053, 1)\n"
     ]
    }
   ],
   "source": [
    "# Split the data using train_test_split\n",
    "X_train, X_test, Y_train, Y_test = train_test_split(X_scaled, Y, test_size=0.2)\n",
    "\n",
    "# Print the shape of the data for verification\n",
    "print(f'X_train shape: {X_train.shape}\\nY_train shape: {Y_train.shape}')\n",
    "print(f'X_train shape: {X_test.shape}\\nY_train shape: {Y_test.shape}')"
   ]
  },
  {
   "cell_type": "markdown",
   "metadata": {},
   "source": [
    "## Apply multiple linear regression model to training dataset"
   ]
  },
  {
   "cell_type": "code",
   "execution_count": 16,
   "metadata": {},
   "outputs": [
    {
     "data": {
      "text/plain": [
       "16.831029781018803"
      ]
     },
     "execution_count": 16,
     "metadata": {},
     "output_type": "execute_result"
    }
   ],
   "source": [
    "# Apply multiple linear regression model\n",
    "mlm = LinearRegression()\n",
    "\n",
    "# Fit model\n",
    "mlm.fit(X_train, Y_train)\n",
    "\n",
    "# Make predictions on validation set\n",
    "Y_pred = mlm.predict(X_test)\n",
    "\n",
    "# Compute RMSE\n",
    "mean_squared_error(Y_test, Y_pred, squared = False)"
   ]
  },
  {
   "cell_type": "markdown",
   "metadata": {},
   "source": [
    "## Ridge Regression ##\n",
    "\n",
    "Ridge performs about the same as mlm."
   ]
  },
  {
   "cell_type": "code",
   "execution_count": 17,
   "metadata": {},
   "outputs": [
    {
     "data": {
      "text/plain": [
       "16.82352523337167"
      ]
     },
     "execution_count": 17,
     "metadata": {},
     "output_type": "execute_result"
    }
   ],
   "source": [
    "# Create array of alphas to test (recommended range from 0 to 1 at 0.01 intervals)\n",
    "alphas = np.arange(0, 1, 0.01)\n",
    "\n",
    "# Set folds\n",
    "cv = RepeatedKFold(n_splits=10, n_repeats=3, random_state=1)\n",
    "\n",
    "# Fit model to find best alpha\n",
    "ridgeR = RidgeCV(alphas = alphas, cv = cv)\n",
    "ridgeR.fit(X_train, Y_train)\n",
    "\n",
    "# Find best alpha\n",
    "alpha = ridgeR.alpha_\n",
    "\n",
    "# Fit new model with best alpha\n",
    "best_ridge = Ridge(alpha = alpha)\n",
    "best_ridge.fit(X_train, Y_train)\n",
    "\n",
    "# Make predictions on validation set\n",
    "Y_pred = best_ridge.predict(X_test)\n",
    "\n",
    "# Compute RMSE\n",
    "mean_squared_error(Y_test, Y_pred, squared = False)"
   ]
  },
  {
   "cell_type": "markdown",
   "metadata": {},
   "source": [
    "## Lasso ##\n",
    "\n",
    "Ridge regression does not give a noticeable improvement over multiple linear regression, so test Lasso."
   ]
  },
  {
   "cell_type": "code",
   "execution_count": 18,
   "metadata": {},
   "outputs": [
    {
     "data": {
      "text/plain": [
       "17.806986921925713"
      ]
     },
     "execution_count": 18,
     "metadata": {},
     "output_type": "execute_result"
    }
   ],
   "source": [
    "# Create array of alphas\n",
    "alphas = np.logspace(start = -5, stop = 5, num=100, endpoint = True, base = 10)\n",
    "\n",
    "# Set folds\n",
    "cv = RepeatedKFold(n_splits=10, n_repeats=10, random_state=1)\n",
    "\n",
    "# Build model\n",
    "lasso = LassoCV(alphas = alphas, cv = cv, n_jobs = -1)\n",
    "\n",
    "# Fit model\n",
    "lasso.fit(X_train, Y_train)\n",
    "\n",
    "# Get best alpha/lambda\n",
    "alpha = lasso.alpha_\n",
    "\n",
    "# Fit model with best alpha/lambda\n",
    "best_lasso = Lasso(alpha = alpha)\n",
    "best_lasso.fit(X_train, Y_train)\n",
    "\n",
    "# Make predictions on validation set\n",
    "Y_pred = best_lasso.predict(X_test)\n",
    "\n",
    "# Compute RMSE\n",
    "mean_squared_error(Y_test, Y_pred, squared = False)"
   ]
  },
  {
   "cell_type": "markdown",
   "metadata": {},
   "source": [
    "## Generate critical_temp predictions using Lasso ##\n",
    "\n",
    "Using Ridge with the best possible tuning parameter computed the lowest RMSE of the three models used, so that is used to make predictions on test data."
   ]
  },
  {
   "cell_type": "code",
   "execution_count": 43,
   "metadata": {},
   "outputs": [
    {
     "name": "stdout",
     "output_type": "stream",
     "text": [
      "0       49.013794\n",
      "1        7.025564\n",
      "2      103.300094\n",
      "3        1.751054\n",
      "4        4.887319\n",
      "          ...    \n",
      "995     37.314312\n",
      "996    133.647344\n",
      "997     29.065645\n",
      "998     33.431576\n",
      "999      5.630801\n",
      "Length: 1000, dtype: float64\n"
     ]
    }
   ],
   "source": [
    "# Make predictions on test data\n",
    "test_full = scaler.fit_transform(test_full)\n",
    "yhat_ridge = best_ridge.predict(test_full).reshape(1,1000)[0]\n",
    "yhat_lasso = best_lasso.predict(test_full)\n",
    "\n",
    "# Summarize prediction\n",
    "yhat_ridge = pd.Series(yhat)\n",
    "print(yhat_ridge)\n",
    "\n",
    "# Write predictions to csv\n",
    "rows = np.arange(0,1000,1)\n",
    "temp_predictions = pd.DataFrame(yhat_ridge,rows)\n",
    "temp_predictions.to_csv('predictions.csv')"
   ]
  }
 ],
 "metadata": {
  "kernelspec": {
   "display_name": "Python 3",
   "language": "python",
   "name": "python3"
  },
  "language_info": {
   "codemirror_mode": {
    "name": "ipython",
    "version": 3
   },
   "file_extension": ".py",
   "mimetype": "text/x-python",
   "name": "python",
   "nbconvert_exporter": "python",
   "pygments_lexer": "ipython3",
   "version": "3.8.5"
  }
 },
 "nbformat": 4,
 "nbformat_minor": 4
}
