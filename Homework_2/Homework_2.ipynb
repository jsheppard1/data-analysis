{
 "cells": [
  {
   "cell_type": "markdown",
   "metadata": {},
   "source": [
    "## Homework 2 ##"
   ]
  },
  {
   "cell_type": "code",
   "execution_count": 213,
   "metadata": {},
   "outputs": [],
   "source": [
    "import numpy as np\n",
    "import pandas as pd\n",
    "import matplotlib.pyplot as plt\n",
    "import itertools as it\n",
    "import math"
   ]
  },
  {
   "cell_type": "markdown",
   "metadata": {},
   "source": [
    "## Problem 1a ##\n",
    "Initialize array Z with space for 256 entries and fill those entries with the numbers from 0 to 255 using a for-loop."
   ]
  },
  {
   "cell_type": "code",
   "execution_count": 214,
   "metadata": {
    "scrolled": true
   },
   "outputs": [
    {
     "data": {
      "text/plain": [
       "array([  0,   1,   2,   3,   4,   5,   6,   7,   8,   9,  10,  11,  12,\n",
       "        13,  14,  15,  16,  17,  18,  19,  20,  21,  22,  23,  24,  25,\n",
       "        26,  27,  28,  29,  30,  31,  32,  33,  34,  35,  36,  37,  38,\n",
       "        39,  40,  41,  42,  43,  44,  45,  46,  47,  48,  49,  50,  51,\n",
       "        52,  53,  54,  55,  56,  57,  58,  59,  60,  61,  62,  63,  64,\n",
       "        65,  66,  67,  68,  69,  70,  71,  72,  73,  74,  75,  76,  77,\n",
       "        78,  79,  80,  81,  82,  83,  84,  85,  86,  87,  88,  89,  90,\n",
       "        91,  92,  93,  94,  95,  96,  97,  98,  99, 100, 101, 102, 103,\n",
       "       104, 105, 106, 107, 108, 109, 110, 111, 112, 113, 114, 115, 116,\n",
       "       117, 118, 119, 120, 121, 122, 123, 124, 125, 126, 127, 128, 129,\n",
       "       130, 131, 132, 133, 134, 135, 136, 137, 138, 139, 140, 141, 142,\n",
       "       143, 144, 145, 146, 147, 148, 149, 150, 151, 152, 153, 154, 155,\n",
       "       156, 157, 158, 159, 160, 161, 162, 163, 164, 165, 166, 167, 168,\n",
       "       169, 170, 171, 172, 173, 174, 175, 176, 177, 178, 179, 180, 181,\n",
       "       182, 183, 184, 185, 186, 187, 188, 189, 190, 191, 192, 193, 194,\n",
       "       195, 196, 197, 198, 199, 200, 201, 202, 203, 204, 205, 206, 207,\n",
       "       208, 209, 210, 211, 212, 213, 214, 215, 216, 217, 218, 219, 220,\n",
       "       221, 222, 223, 224, 225, 226, 227, 228, 229, 230, 231, 232, 233,\n",
       "       234, 235, 236, 237, 238, 239, 240, 241, 242, 243, 244, 245, 246,\n",
       "       247, 248, 249, 250, 251, 252, 253, 254, 255])"
      ]
     },
     "execution_count": 214,
     "metadata": {},
     "output_type": "execute_result"
    }
   ],
   "source": [
    "Z = np.arange(256)\n",
    "Z"
   ]
  },
  {
   "cell_type": "markdown",
   "metadata": {},
   "source": [
    "## Problem 1b ##\n",
    "Using the numpy.reshape function"
   ]
  },
  {
   "cell_type": "code",
   "execution_count": 215,
   "metadata": {},
   "outputs": [
    {
     "data": {
      "text/plain": [
       "array([[  0,   1,   2,   3,   4,   5,   6,   7,   8,   9,  10,  11,  12,\n",
       "         13,  14,  15],\n",
       "       [ 16,  17,  18,  19,  20,  21,  22,  23,  24,  25,  26,  27,  28,\n",
       "         29,  30,  31],\n",
       "       [ 32,  33,  34,  35,  36,  37,  38,  39,  40,  41,  42,  43,  44,\n",
       "         45,  46,  47],\n",
       "       [ 48,  49,  50,  51,  52,  53,  54,  55,  56,  57,  58,  59,  60,\n",
       "         61,  62,  63],\n",
       "       [ 64,  65,  66,  67,  68,  69,  70,  71,  72,  73,  74,  75,  76,\n",
       "         77,  78,  79],\n",
       "       [ 80,  81,  82,  83,  84,  85,  86,  87,  88,  89,  90,  91,  92,\n",
       "         93,  94,  95],\n",
       "       [ 96,  97,  98,  99, 100, 101, 102, 103, 104, 105, 106, 107, 108,\n",
       "        109, 110, 111],\n",
       "       [112, 113, 114, 115, 116, 117, 118, 119, 120, 121, 122, 123, 124,\n",
       "        125, 126, 127],\n",
       "       [128, 129, 130, 131, 132, 133, 134, 135, 136, 137, 138, 139, 140,\n",
       "        141, 142, 143],\n",
       "       [144, 145, 146, 147, 148, 149, 150, 151, 152, 153, 154, 155, 156,\n",
       "        157, 158, 159],\n",
       "       [160, 161, 162, 163, 164, 165, 166, 167, 168, 169, 170, 171, 172,\n",
       "        173, 174, 175],\n",
       "       [176, 177, 178, 179, 180, 181, 182, 183, 184, 185, 186, 187, 188,\n",
       "        189, 190, 191],\n",
       "       [192, 193, 194, 195, 196, 197, 198, 199, 200, 201, 202, 203, 204,\n",
       "        205, 206, 207],\n",
       "       [208, 209, 210, 211, 212, 213, 214, 215, 216, 217, 218, 219, 220,\n",
       "        221, 222, 223],\n",
       "       [224, 225, 226, 227, 228, 229, 230, 231, 232, 233, 234, 235, 236,\n",
       "        237, 238, 239],\n",
       "       [240, 241, 242, 243, 244, 245, 246, 247, 248, 249, 250, 251, 252,\n",
       "        253, 254, 255]])"
      ]
     },
     "execution_count": 215,
     "metadata": {},
     "output_type": "execute_result"
    }
   ],
   "source": [
    "Z = np.reshape(Z, (16, 16))\n",
    "Z"
   ]
  },
  {
   "cell_type": "markdown",
   "metadata": {},
   "source": [
    "## Problem 1c ## \n",
    "Indexing with slices"
   ]
  },
  {
   "cell_type": "code",
   "execution_count": 216,
   "metadata": {},
   "outputs": [
    {
     "data": {
      "text/plain": [
       "array([[  0,   1,   2,   3,   4,   5,   6,   7],\n",
       "       [ 16,  17,  18,  19,  20,  21,  22,  23],\n",
       "       [ 32,  33,  34,  35,  36,  37,  38,  39],\n",
       "       [ 48,  49,  50,  51,  52,  53,  54,  55],\n",
       "       [ 64,  65,  66,  67,  68,  69,  70,  71],\n",
       "       [ 80,  81,  82,  83,  84,  85,  86,  87],\n",
       "       [ 96,  97,  98,  99, 100, 101, 102, 103],\n",
       "       [112, 113, 114, 115, 116, 117, 118, 119]])"
      ]
     },
     "execution_count": 216,
     "metadata": {},
     "output_type": "execute_result"
    }
   ],
   "source": [
    "Z1 = Z[:8, :8]\n",
    "Z1"
   ]
  },
  {
   "cell_type": "code",
   "execution_count": 217,
   "metadata": {},
   "outputs": [
    {
     "data": {
      "text/plain": [
       "array([[  8,   9,  10,  11,  12,  13,  14,  15],\n",
       "       [ 24,  25,  26,  27,  28,  29,  30,  31],\n",
       "       [ 40,  41,  42,  43,  44,  45,  46,  47],\n",
       "       [ 56,  57,  58,  59,  60,  61,  62,  63],\n",
       "       [ 72,  73,  74,  75,  76,  77,  78,  79],\n",
       "       [ 88,  89,  90,  91,  92,  93,  94,  95],\n",
       "       [104, 105, 106, 107, 108, 109, 110, 111],\n",
       "       [120, 121, 122, 123, 124, 125, 126, 127]])"
      ]
     },
     "execution_count": 217,
     "metadata": {},
     "output_type": "execute_result"
    }
   ],
   "source": [
    "Z2 = Z[:8, 8:]\n",
    "Z2"
   ]
  },
  {
   "cell_type": "code",
   "execution_count": 218,
   "metadata": {},
   "outputs": [
    {
     "data": {
      "text/plain": [
       "array([[128, 129, 130, 131, 132, 133, 134, 135],\n",
       "       [144, 145, 146, 147, 148, 149, 150, 151],\n",
       "       [160, 161, 162, 163, 164, 165, 166, 167],\n",
       "       [176, 177, 178, 179, 180, 181, 182, 183],\n",
       "       [192, 193, 194, 195, 196, 197, 198, 199],\n",
       "       [208, 209, 210, 211, 212, 213, 214, 215],\n",
       "       [224, 225, 226, 227, 228, 229, 230, 231],\n",
       "       [240, 241, 242, 243, 244, 245, 246, 247]])"
      ]
     },
     "execution_count": 218,
     "metadata": {},
     "output_type": "execute_result"
    }
   ],
   "source": [
    "Z3 = Z[8:, :8]\n",
    "Z3"
   ]
  },
  {
   "cell_type": "code",
   "execution_count": 219,
   "metadata": {},
   "outputs": [
    {
     "data": {
      "text/plain": [
       "array([[136, 137, 138, 139, 140, 141, 142, 143],\n",
       "       [152, 153, 154, 155, 156, 157, 158, 159],\n",
       "       [168, 169, 170, 171, 172, 173, 174, 175],\n",
       "       [184, 185, 186, 187, 188, 189, 190, 191],\n",
       "       [200, 201, 202, 203, 204, 205, 206, 207],\n",
       "       [216, 217, 218, 219, 220, 221, 222, 223],\n",
       "       [232, 233, 234, 235, 236, 237, 238, 239],\n",
       "       [248, 249, 250, 251, 252, 253, 254, 255]])"
      ]
     },
     "execution_count": 219,
     "metadata": {},
     "output_type": "execute_result"
    }
   ],
   "source": [
    "Z4 = Z[8:, 8:]\n",
    "Z4"
   ]
  },
  {
   "cell_type": "markdown",
   "metadata": {},
   "source": [
    "## Problem 1d ## \n",
    "Determining sums of Z1, Z2, Z3, Z4"
   ]
  },
  {
   "cell_type": "code",
   "execution_count": 220,
   "metadata": {},
   "outputs": [
    {
     "name": "stdout",
     "output_type": "stream",
     "text": [
      "Z1 sum: 3808\n",
      "Z2 sum: 4320\n",
      "Z3 sum: 12000\n",
      "Z4 sum: 12512\n"
     ]
    }
   ],
   "source": [
    "print(\"Z1 sum: \" + str(Z1.sum()))\n",
    "print(\"Z2 sum: \" + str(Z2.sum()))\n",
    "print(\"Z3 sum: \" + str(Z3.sum()))\n",
    "print(\"Z4 sum: \" + str(Z4.sum()))"
   ]
  },
  {
   "cell_type": "markdown",
   "metadata": {},
   "source": [
    "## Problem 2 ##\n",
    "I used the following link to figure out how to get the sum of the opposite diagonal https://stackoverflow.com/questions/16114333/getting-the-opposite-diagonal-of-a-numpy-array"
   ]
  },
  {
   "cell_type": "code",
   "execution_count": 221,
   "metadata": {},
   "outputs": [
    {
     "name": "stdout",
     "output_type": "stream",
     "text": [
      "A is a magic square\n"
     ]
    }
   ],
   "source": [
    "# Create array\n",
    "A=np.array([[17, 24,  1,  8, 15],\n",
    "            [23,  5,  7, 14, 16],\n",
    "            [ 4,  6, 13, 20, 22],\n",
    "            [10, 12, 19, 21,  3],\n",
    "            [11, 18, 25,  2,  9]])\n",
    "\n",
    "# Get the six values to check if A is a magic square \n",
    "# col max and min, row max and min, diagonals\n",
    "col_max = A.sum(axis = 0).max()\n",
    "col_min = A.sum(axis = 0).min()\n",
    "row_max = A.sum(axis = 1).max()\n",
    "row_min = A.sum(axis = 1).min()\n",
    "diag_sum_1 = np.diag(A).sum()\n",
    "diag_sum_2 = np.diag(np.fliplr(A)).sum()\n",
    "\n",
    "# Check the values \n",
    "if row_max == row_min == col_max == col_min == diag_sum_1 == diag_sum_2:\n",
    "    print(\"A is a magic square\")\n",
    "else:\n",
    "    print(\"A is not a magic square\")"
   ]
  },
  {
   "cell_type": "markdown",
   "metadata": {},
   "source": [
    "## Problem 3 ##\n",
    "Used itertools.product to find the cartesian product, convert to array, check if dot product w/ coefficients matches b"
   ]
  },
  {
   "cell_type": "code",
   "execution_count": 222,
   "metadata": {},
   "outputs": [
    {
     "data": {
      "text/plain": [
       "array([[ 0,  0,  0,  2],\n",
       "       [ 0,  1,  1,  1],\n",
       "       [ 0,  2,  2,  0],\n",
       "       [ 0,  5,  0,  0],\n",
       "       [ 1,  0,  3,  0],\n",
       "       [ 1,  2,  0,  1],\n",
       "       [ 1,  3,  1,  0],\n",
       "       [ 2,  0,  1,  1],\n",
       "       [ 2,  1,  2,  0],\n",
       "       [ 2,  4,  0,  0],\n",
       "       [ 3,  1,  0,  1],\n",
       "       [ 3,  2,  1,  0],\n",
       "       [ 4,  0,  2,  0],\n",
       "       [ 4,  3,  0,  0],\n",
       "       [ 5,  0,  0,  1],\n",
       "       [ 5,  1,  1,  0],\n",
       "       [ 6,  2,  0,  0],\n",
       "       [ 7,  0,  1,  0],\n",
       "       [ 8,  1,  0,  0],\n",
       "       [10,  0,  0,  0]])"
      ]
     },
     "execution_count": 222,
     "metadata": {},
     "output_type": "execute_result"
    }
   ],
   "source": [
    "#https://docs.python.org/3/library/itertools.html#itertools.product\n",
    "\n",
    "def solvefrob(coefs, b):\n",
    "    soln_list = []\n",
    "    for cart_prod in it.product(np.arange(0, b+1, 1), repeat=len(coefs)):\n",
    "        cart_prod = np.array(cart_prod)\n",
    "        if coefs @ cart_prod == b:\n",
    "            soln_list.append(cart_prod)\n",
    "    return np.array(soln_list)\n",
    "\n",
    "solvefrob([1,2,3,5], 10)"
   ]
  },
  {
   "cell_type": "markdown",
   "metadata": {},
   "source": [
    "## Problem 4 ##"
   ]
  },
  {
   "cell_type": "code",
   "execution_count": 223,
   "metadata": {},
   "outputs": [],
   "source": [
    "college = pd.read_csv('College.csv', index_col=0)"
   ]
  },
  {
   "cell_type": "markdown",
   "metadata": {},
   "source": [
    "## Problem 4a ##"
   ]
  },
  {
   "cell_type": "code",
   "execution_count": 224,
   "metadata": {},
   "outputs": [
    {
     "data": {
      "text/html": [
       "<div>\n",
       "<style scoped>\n",
       "    .dataframe tbody tr th:only-of-type {\n",
       "        vertical-align: middle;\n",
       "    }\n",
       "\n",
       "    .dataframe tbody tr th {\n",
       "        vertical-align: top;\n",
       "    }\n",
       "\n",
       "    .dataframe thead th {\n",
       "        text-align: right;\n",
       "    }\n",
       "</style>\n",
       "<table border=\"1\" class=\"dataframe\">\n",
       "  <thead>\n",
       "    <tr style=\"text-align: right;\">\n",
       "      <th></th>\n",
       "      <th>Enroll_Rate</th>\n",
       "    </tr>\n",
       "  </thead>\n",
       "  <tbody>\n",
       "    <tr>\n",
       "      <th>California Lutheran University</th>\n",
       "      <td>1.000000</td>\n",
       "    </tr>\n",
       "    <tr>\n",
       "      <th>Brewton-Parker College</th>\n",
       "      <td>0.978827</td>\n",
       "    </tr>\n",
       "    <tr>\n",
       "      <th>Mississippi University for Women</th>\n",
       "      <td>0.938272</td>\n",
       "    </tr>\n",
       "    <tr>\n",
       "      <th>Peru State College</th>\n",
       "      <td>0.914172</td>\n",
       "    </tr>\n",
       "    <tr>\n",
       "      <th>Indiana Wesleyan University</th>\n",
       "      <td>0.865248</td>\n",
       "    </tr>\n",
       "  </tbody>\n",
       "</table>\n",
       "</div>"
      ],
      "text/plain": [
       "                                  Enroll_Rate\n",
       "California Lutheran University       1.000000\n",
       "Brewton-Parker College               0.978827\n",
       "Mississippi University for Women     0.938272\n",
       "Peru State College                   0.914172\n",
       "Indiana Wesleyan University          0.865248"
      ]
     },
     "execution_count": 224,
     "metadata": {},
     "output_type": "execute_result"
    }
   ],
   "source": [
    "college['Enroll_Rate'] = college['Enroll'] / college['Accept']\n",
    "top_enroll_rates = college.sort_values(by='Enroll_Rate',ascending = False)[['Enroll_Rate']].head(n=5)\n",
    "top_enroll_rates"
   ]
  },
  {
   "cell_type": "markdown",
   "metadata": {},
   "source": [
    "## Problem 4b ##"
   ]
  },
  {
   "cell_type": "code",
   "execution_count": 225,
   "metadata": {},
   "outputs": [
    {
     "data": {
      "text/html": [
       "<div>\n",
       "<style scoped>\n",
       "    .dataframe tbody tr th:only-of-type {\n",
       "        vertical-align: middle;\n",
       "    }\n",
       "\n",
       "    .dataframe tbody tr th {\n",
       "        vertical-align: top;\n",
       "    }\n",
       "\n",
       "    .dataframe thead th {\n",
       "        text-align: right;\n",
       "    }\n",
       "</style>\n",
       "<table border=\"1\" class=\"dataframe\">\n",
       "  <thead>\n",
       "    <tr style=\"text-align: right;\">\n",
       "      <th></th>\n",
       "      <th>Total_Cost</th>\n",
       "    </tr>\n",
       "  </thead>\n",
       "  <tbody>\n",
       "    <tr>\n",
       "      <th>Yale University</th>\n",
       "      <td>29095</td>\n",
       "    </tr>\n",
       "    <tr>\n",
       "      <th>Massachusetts Institute of Technology</th>\n",
       "      <td>28400</td>\n",
       "    </tr>\n",
       "    <tr>\n",
       "      <th>Princeton University</th>\n",
       "      <td>28060</td>\n",
       "    </tr>\n",
       "    <tr>\n",
       "      <th>Georgetown University</th>\n",
       "      <td>27801</td>\n",
       "    </tr>\n",
       "    <tr>\n",
       "      <th>Brandeis University</th>\n",
       "      <td>27540</td>\n",
       "    </tr>\n",
       "  </tbody>\n",
       "</table>\n",
       "</div>"
      ],
      "text/plain": [
       "                                       Total_Cost\n",
       "Yale University                             29095\n",
       "Massachusetts Institute of Technology       28400\n",
       "Princeton University                        28060\n",
       "Georgetown University                       27801\n",
       "Brandeis University                         27540"
      ]
     },
     "execution_count": 225,
     "metadata": {},
     "output_type": "execute_result"
    }
   ],
   "source": [
    "college['Total_Cost'] = college['Outstate'] + college['Room.Board'] + college['Books'] + college['Personal']\n",
    "total_costs = college.sort_values(by='Total_Cost',ascending = False)[['Total_Cost']].head()\n",
    "total_costs"
   ]
  },
  {
   "cell_type": "markdown",
   "metadata": {},
   "source": [
    "## Problem 4c ##"
   ]
  },
  {
   "cell_type": "code",
   "execution_count": 226,
   "metadata": {},
   "outputs": [
    {
     "data": {
      "text/html": [
       "<div>\n",
       "<style scoped>\n",
       "    .dataframe tbody tr th:only-of-type {\n",
       "        vertical-align: middle;\n",
       "    }\n",
       "\n",
       "    .dataframe tbody tr th {\n",
       "        vertical-align: top;\n",
       "    }\n",
       "\n",
       "    .dataframe thead th {\n",
       "        text-align: right;\n",
       "    }\n",
       "</style>\n",
       "<table border=\"1\" class=\"dataframe\">\n",
       "  <thead>\n",
       "    <tr style=\"text-align: right;\">\n",
       "      <th></th>\n",
       "      <th>Outstate</th>\n",
       "      <th>Expend</th>\n",
       "      <th>profit_per_student</th>\n",
       "    </tr>\n",
       "  </thead>\n",
       "  <tbody>\n",
       "    <tr>\n",
       "      <th>Elmira College</th>\n",
       "      <td>14990</td>\n",
       "      <td>7502</td>\n",
       "      <td>7488</td>\n",
       "    </tr>\n",
       "    <tr>\n",
       "      <th>Buena Vista College</th>\n",
       "      <td>13306</td>\n",
       "      <td>6333</td>\n",
       "      <td>6973</td>\n",
       "    </tr>\n",
       "    <tr>\n",
       "      <th>Franklin Pierce College</th>\n",
       "      <td>13320</td>\n",
       "      <td>6418</td>\n",
       "      <td>6902</td>\n",
       "    </tr>\n",
       "    <tr>\n",
       "      <th>Providence College</th>\n",
       "      <td>14400</td>\n",
       "      <td>8135</td>\n",
       "      <td>6265</td>\n",
       "    </tr>\n",
       "    <tr>\n",
       "      <th>Saint Anselm College</th>\n",
       "      <td>12950</td>\n",
       "      <td>6719</td>\n",
       "      <td>6231</td>\n",
       "    </tr>\n",
       "  </tbody>\n",
       "</table>\n",
       "</div>"
      ],
      "text/plain": [
       "                         Outstate  Expend  profit_per_student\n",
       "Elmira College              14990    7502                7488\n",
       "Buena Vista College         13306    6333                6973\n",
       "Franklin Pierce College     13320    6418                6902\n",
       "Providence College          14400    8135                6265\n",
       "Saint Anselm College        12950    6719                6231"
      ]
     },
     "execution_count": 226,
     "metadata": {},
     "output_type": "execute_result"
    }
   ],
   "source": [
    "college['profit_per_student'] = (college['Outstate'] - college['Expend']) #/ (college['F.Undergrad'] + college['P.Undergrad'])\n",
    "top_profiters = college.sort_values(by = 'profit_per_student', ascending = False)[['Outstate','Expend','profit_per_student']].head()\n",
    "top_profiters"
   ]
  },
  {
   "cell_type": "markdown",
   "metadata": {},
   "source": [
    "## Problem 5 ##"
   ]
  },
  {
   "cell_type": "code",
   "execution_count": 227,
   "metadata": {},
   "outputs": [],
   "source": [
    "credit = pd.read_csv('Credit.csv', index_col=0)"
   ]
  },
  {
   "cell_type": "markdown",
   "metadata": {},
   "source": [
    "## Problem 5a ##"
   ]
  },
  {
   "cell_type": "code",
   "execution_count": 228,
   "metadata": {},
   "outputs": [],
   "source": [
    "credit['credit_utilization'] = credit['Balance'] / credit['Limit']"
   ]
  },
  {
   "cell_type": "markdown",
   "metadata": {},
   "source": [
    "## Problem 5b ##"
   ]
  },
  {
   "cell_type": "code",
   "execution_count": 229,
   "metadata": {},
   "outputs": [
    {
     "data": {
      "text/html": [
       "<div>\n",
       "<style scoped>\n",
       "    .dataframe tbody tr th:only-of-type {\n",
       "        vertical-align: middle;\n",
       "    }\n",
       "\n",
       "    .dataframe tbody tr th {\n",
       "        vertical-align: top;\n",
       "    }\n",
       "\n",
       "    .dataframe thead th {\n",
       "        text-align: right;\n",
       "    }\n",
       "</style>\n",
       "<table border=\"1\" class=\"dataframe\">\n",
       "  <thead>\n",
       "    <tr style=\"text-align: right;\">\n",
       "      <th></th>\n",
       "      <th>Income</th>\n",
       "    </tr>\n",
       "    <tr>\n",
       "      <th>Education</th>\n",
       "      <th></th>\n",
       "    </tr>\n",
       "  </thead>\n",
       "  <tbody>\n",
       "    <tr>\n",
       "      <th>5</th>\n",
       "      <td>34.142000</td>\n",
       "    </tr>\n",
       "    <tr>\n",
       "      <th>6</th>\n",
       "      <td>55.376800</td>\n",
       "    </tr>\n",
       "    <tr>\n",
       "      <th>7</th>\n",
       "      <td>45.153625</td>\n",
       "    </tr>\n",
       "    <tr>\n",
       "      <th>8</th>\n",
       "      <td>66.939500</td>\n",
       "    </tr>\n",
       "    <tr>\n",
       "      <th>9</th>\n",
       "      <td>40.387600</td>\n",
       "    </tr>\n",
       "    <tr>\n",
       "      <th>10</th>\n",
       "      <td>35.514208</td>\n",
       "    </tr>\n",
       "    <tr>\n",
       "      <th>11</th>\n",
       "      <td>53.092606</td>\n",
       "    </tr>\n",
       "    <tr>\n",
       "      <th>12</th>\n",
       "      <td>43.401405</td>\n",
       "    </tr>\n",
       "    <tr>\n",
       "      <th>13</th>\n",
       "      <td>40.077868</td>\n",
       "    </tr>\n",
       "    <tr>\n",
       "      <th>14</th>\n",
       "      <td>46.467542</td>\n",
       "    </tr>\n",
       "    <tr>\n",
       "      <th>15</th>\n",
       "      <td>43.938000</td>\n",
       "    </tr>\n",
       "    <tr>\n",
       "      <th>16</th>\n",
       "      <td>42.881640</td>\n",
       "    </tr>\n",
       "    <tr>\n",
       "      <th>17</th>\n",
       "      <td>55.284235</td>\n",
       "    </tr>\n",
       "    <tr>\n",
       "      <th>18</th>\n",
       "      <td>38.112364</td>\n",
       "    </tr>\n",
       "    <tr>\n",
       "      <th>19</th>\n",
       "      <td>41.441100</td>\n",
       "    </tr>\n",
       "    <tr>\n",
       "      <th>20</th>\n",
       "      <td>37.607500</td>\n",
       "    </tr>\n",
       "  </tbody>\n",
       "</table>\n",
       "</div>"
      ],
      "text/plain": [
       "              Income\n",
       "Education           \n",
       "5          34.142000\n",
       "6          55.376800\n",
       "7          45.153625\n",
       "8          66.939500\n",
       "9          40.387600\n",
       "10         35.514208\n",
       "11         53.092606\n",
       "12         43.401405\n",
       "13         40.077868\n",
       "14         46.467542\n",
       "15         43.938000\n",
       "16         42.881640\n",
       "17         55.284235\n",
       "18         38.112364\n",
       "19         41.441100\n",
       "20         37.607500"
      ]
     },
     "execution_count": 229,
     "metadata": {},
     "output_type": "execute_result"
    }
   ],
   "source": [
    "avg_inc_by_educ = credit.groupby(['Education']).mean()[['Income']]\n",
    "avg_inc_by_educ"
   ]
  },
  {
   "cell_type": "markdown",
   "metadata": {},
   "source": [
    "## Problem 5c ##"
   ]
  },
  {
   "cell_type": "code",
   "execution_count": 230,
   "metadata": {},
   "outputs": [
    {
     "data": {
      "text/html": [
       "<div>\n",
       "<style scoped>\n",
       "    .dataframe tbody tr th:only-of-type {\n",
       "        vertical-align: middle;\n",
       "    }\n",
       "\n",
       "    .dataframe tbody tr th {\n",
       "        vertical-align: top;\n",
       "    }\n",
       "\n",
       "    .dataframe thead th {\n",
       "        text-align: right;\n",
       "    }\n",
       "</style>\n",
       "<table border=\"1\" class=\"dataframe\">\n",
       "  <thead>\n",
       "    <tr style=\"text-align: right;\">\n",
       "      <th></th>\n",
       "      <th>Income</th>\n",
       "    </tr>\n",
       "    <tr>\n",
       "      <th>age_range</th>\n",
       "      <th></th>\n",
       "    </tr>\n",
       "  </thead>\n",
       "  <tbody>\n",
       "    <tr>\n",
       "      <th>Under 19</th>\n",
       "      <td>NaN</td>\n",
       "    </tr>\n",
       "    <tr>\n",
       "      <th>20-29</th>\n",
       "      <td>29.441917</td>\n",
       "    </tr>\n",
       "    <tr>\n",
       "      <th>30-39</th>\n",
       "      <td>40.223983</td>\n",
       "    </tr>\n",
       "    <tr>\n",
       "      <th>40-49</th>\n",
       "      <td>46.570558</td>\n",
       "    </tr>\n",
       "    <tr>\n",
       "      <th>50-59</th>\n",
       "      <td>42.459597</td>\n",
       "    </tr>\n",
       "    <tr>\n",
       "      <th>60-69</th>\n",
       "      <td>46.909606</td>\n",
       "    </tr>\n",
       "    <tr>\n",
       "      <th>70-79</th>\n",
       "      <td>38.628180</td>\n",
       "    </tr>\n",
       "    <tr>\n",
       "      <th>80-89</th>\n",
       "      <td>66.189658</td>\n",
       "    </tr>\n",
       "    <tr>\n",
       "      <th>90-99</th>\n",
       "      <td>167.337500</td>\n",
       "    </tr>\n",
       "  </tbody>\n",
       "</table>\n",
       "</div>"
      ],
      "text/plain": [
       "               Income\n",
       "age_range            \n",
       "Under 19          NaN\n",
       "20-29       29.441917\n",
       "30-39       40.223983\n",
       "40-49       46.570558\n",
       "50-59       42.459597\n",
       "60-69       46.909606\n",
       "70-79       38.628180\n",
       "80-89       66.189658\n",
       "90-99      167.337500"
      ]
     },
     "execution_count": 230,
     "metadata": {},
     "output_type": "execute_result"
    }
   ],
   "source": [
    "#https://pandas.pydata.org/pandas-docs/stable/reference/api/pandas.cut.html\n",
    "credit['age_range'] = pd.cut(credit['Age'], \n",
    "                             bins = [0,19,29,39,49,59,69,79,89,99], \n",
    "                             labels = [\"Under 19\",\"20-29\",\"30-39\",\"40-49\",\"50-59\",\"60-69\",\"70-79\",\"80-89\",\"90-99\"],\n",
    "                             right = True)\n",
    "credit.groupby(['age_range']).mean()[['Income']]"
   ]
  },
  {
   "cell_type": "markdown",
   "metadata": {},
   "source": [
    "## Problem 5d i ##\n",
    "People who have higher credit ratings tend to have higher credit limits."
   ]
  },
  {
   "cell_type": "code",
   "execution_count": 231,
   "metadata": {},
   "outputs": [
    {
     "data": {
      "image/png": "[encoded data removed]",
      "text/plain": [
       "<Figure size 432x288 with 1 Axes>"
      ]
     },
     "metadata": {
      "needs_background": "light"
     },
     "output_type": "display_data"
    }
   ],
   "source": [
    "plt.scatter(x = credit['Rating'], y = credit['Limit'])\n",
    "plt.title(\"Credit Limit v Rating\")\n",
    "plt.xlabel(\"Rating\")\n",
    "plt.ylabel(\"Credit Limit ($)\")\n",
    "plt.show()"
   ]
  },
  {
   "cell_type": "markdown",
   "metadata": {},
   "source": [
    "## Problem 5d ii ##\n",
    "People with higher incomes tend to have higher credit limits."
   ]
  },
  {
   "cell_type": "code",
   "execution_count": 232,
   "metadata": {
    "scrolled": true
   },
   "outputs": [
    {
     "data": {
      "image/png": "[encoded data removed]",
      "text/plain": [
       "<Figure size 432x288 with 1 Axes>"
      ]
     },
     "metadata": {
      "needs_background": "light"
     },
     "output_type": "display_data"
    }
   ],
   "source": [
    "plt.scatter(x=credit['Income'], y=credit['Limit'])\n",
    "plt.title(\"Credit Limit v Income\")\n",
    "plt.xlabel(\"Income ($)\")\n",
    "plt.ylabel(\"Credit Limit ($)\")\n",
    "plt.show()"
   ]
  },
  {
   "cell_type": "markdown",
   "metadata": {},
   "source": [
    "## Problem 5d iii ##\n",
    "There is a slightly positive relationship between credit balance and income."
   ]
  },
  {
   "cell_type": "code",
   "execution_count": 233,
   "metadata": {
    "scrolled": true
   },
   "outputs": [
    {
     "data": {
      "image/png": "[encoded data removed]",
      "text/plain": [
       "<Figure size 432x288 with 1 Axes>"
      ]
     },
     "metadata": {
      "needs_background": "light"
     },
     "output_type": "display_data"
    }
   ],
   "source": [
    "plt.scatter(x=credit['Income'], y=credit['Balance'])\n",
    "plt.title(\"Credit Balance v Income\")\n",
    "plt.xlabel(\"Income ($)\")\n",
    "plt.ylabel(\"Credit Balance ($)\")\n",
    "plt.show()"
   ]
  },
  {
   "cell_type": "markdown",
   "metadata": {},
   "source": [
    "## Problem 5d iv ##\n",
    "Most people who earn more than 100K completed high school (have 12 or more years of education)."
   ]
  },
  {
   "cell_type": "code",
   "execution_count": 234,
   "metadata": {},
   "outputs": [
    {
     "data": {
      "image/png": "[encoded data removed]",
      "text/plain": [
       "<Figure size 432x288 with 1 Axes>"
      ]
     },
     "metadata": {
      "needs_background": "light"
     },
     "output_type": "display_data"
    }
   ],
   "source": [
    "plt.scatter(x=credit['Education'], y=credit['Income'])\n",
    "plt.title(\"Income v Education\")\n",
    "plt.xlabel(\"Education (years)\")\n",
    "plt.ylabel(\"Income ($)\")\n",
    "plt.show()"
   ]
  },
  {
   "cell_type": "markdown",
   "metadata": {},
   "source": [
    "## Problem 5d v ##\n",
    "Few people who have high (>10k) credit limits completed less than a high school education (<12 years)"
   ]
  },
  {
   "cell_type": "code",
   "execution_count": 235,
   "metadata": {},
   "outputs": [
    {
     "data": {
      "image/png": "[encoded data removed]",
      "text/plain": [
       "<Figure size 432x288 with 1 Axes>"
      ]
     },
     "metadata": {
      "needs_background": "light"
     },
     "output_type": "display_data"
    }
   ],
   "source": [
    "plt.scatter(x=credit['Education'],y=credit['Limit'])\n",
    "plt.title(\"Credit Limit v Education\")\n",
    "plt.xlabel(\"Education (years)\")\n",
    "plt.ylabel(\"Credit Limit ($)\")\n",
    "plt.show()"
   ]
  },
  {
   "cell_type": "markdown",
   "metadata": {},
   "source": [
    "## Problem 6 ##"
   ]
  },
  {
   "cell_type": "code",
   "execution_count": 236,
   "metadata": {},
   "outputs": [
    {
     "data": {
      "image/png": "[encoded data removed]",
      "text/plain": [
       "<Figure size 432x288 with 1 Axes>"
      ]
     },
     "metadata": {
      "needs_background": "light"
     },
     "output_type": "display_data"
    }
   ],
   "source": [
    "#https://stackoverflow.com/questions/19125722/adding-a-legend-to-pyplot-in-matplotlib-in-the-simplest-manner-possible\n",
    "\n",
    "# A function to calculate the values to be plotted to create the limacon\n",
    "def create_limacon(r0, obs):\n",
    "    # Values of theta should range from 0 to 2*pi, per the unit circle\n",
    "    theta = np.linspace(start = 0, stop = 2*math.pi, num = obs)\n",
    "    r = r0 + np.cos(theta)\n",
    "    x = r * np.cos(theta)\n",
    "    y = r * np.sin(theta)\n",
    "    return (x, y)\n",
    "\n",
    "# Create the plots\n",
    "plt.scatter(x = create_limacon(0.8, 10000)[0], y = create_limacon(0.8, 10000)[1], label = \"r0 = 0.8\")\n",
    "plt.scatter(x = create_limacon(1, 10000)[0], y = create_limacon(1, 10000)[1], label = \"r0 = 1\")\n",
    "plt.scatter(x = create_limacon(1.2, 10000)[0], y = create_limacon(1.2, 10000)[1], label = \"r0 = 1.2\")\n",
    "plt.legend(loc = \"lower right\")\n",
    "\n",
    "# Save the figure as a png\n",
    "plt.savefig('limacon.png')\n",
    "\n",
    "plt.show()"
   ]
  }
 ],
 "metadata": {
  "kernelspec": {
   "display_name": "Python 3",
   "language": "python",
   "name": "python3"
  },
  "language_info": {
   "codemirror_mode": {
    "name": "ipython",
    "version": 3
   },
   "file_extension": ".py",
   "mimetype": "text/x-python",
   "name": "python",
   "nbconvert_exporter": "python",
   "pygments_lexer": "ipython3",
   "version": "3.8.5"
  }
 },
 "nbformat": 4,
 "nbformat_minor": 4
}
